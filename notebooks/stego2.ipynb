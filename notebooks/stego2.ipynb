{
 "cells": [
  {
   "cell_type": "markdown",
   "id": "5c6fb6a0",
   "metadata": {},
   "source": [
    "# Interactive tutorial\n",
    "\n",
    "## An interactive example with Steganography method #2\n",
    "\n",
    "### 1. Import packages"
   ]
  },
  {
   "cell_type": "code",
   "execution_count": 5,
   "id": "9cfc83dd",
   "metadata": {},
   "outputs": [],
   "source": [
    "# Ignore this block when reading for the first time\n",
    "import sys, os # import packages to facilitate importing local package\n",
    "sys.path.append(os.path.abspath(\"../src\"))\n",
    "import inspect\n",
    "\n",
    "from textstego.textstego import Stego1, Stego2"
   ]
  },
  {
   "cell_type": "markdown",
   "id": "908e9d5c",
   "metadata": {},
   "source": [
    "### 2. Use steganography method #2"
   ]
  },
  {
   "cell_type": "code",
   "execution_count": 6,
   "id": "e5de8e4c",
   "metadata": {},
   "outputs": [
    {
     "name": "stdout",
     "output_type": "stream",
     "text": [
      "['decode', 'encode']\n",
      "(message: str, bits: str = '')\n"
     ]
    }
   ],
   "source": [
    "stego2 = Stego2()\n",
    "attributes = [attr for attr in dir(Stego2) if not attr.startswith(\"__\") and not attr.endswith('__')]\n",
    "print(attributes)\n",
    "print(inspect.signature(stego2.encode))"
   ]
  },
  {
   "cell_type": "markdown",
   "id": "4191bfbf",
   "metadata": {},
   "source": [
    "### 3. Encoding"
   ]
  },
  {
   "cell_type": "code",
   "execution_count": 7,
   "id": "c82d0a36",
   "metadata": {},
   "outputs": [
    {
     "name": "stdout",
     "output_type": "stream",
     "text": [
      " Cover: \"Aloha\"\n",
      " Stego: \"aLOhA\"\n",
      "Hidden: \"01101\"\n"
     ]
    }
   ],
   "source": [
    "cover_text2 = \"Aloha\"\n",
    "hidden_bits2= \"01101\"\n",
    "stego_text2 = stego2.encode(cover_text2, hidden_bits2)\n",
    "\n",
    "print(f' Cover: \"{cover_text2}\"')\n",
    "print(f' Stego: \"{stego_text2}\"')\n",
    "print(f'Hidden: \"{hidden_bits2}\"')"
   ]
  },
  {
   "cell_type": "markdown",
   "id": "08c28f71",
   "metadata": {},
   "source": [
    "### 4. Decoding"
   ]
  },
  {
   "cell_type": "code",
   "execution_count": 8,
   "id": "bdad6177",
   "metadata": {},
   "outputs": [
    {
     "name": "stdout",
     "output_type": "stream",
     "text": [
      "Decoded: 01101\n",
      " Hidden: 01101\n"
     ]
    }
   ],
   "source": [
    "decoded_bits2 = stego2.decode(stego_text2)\n",
    "print(f\"Decoded: {decoded_bits2}\")\n",
    "print(f\" Hidden: {hidden_bits2}\")"
   ]
  },
  {
   "cell_type": "markdown",
   "id": "7ade4890",
   "metadata": {},
   "source": [
    "## Next Steps\n",
    "\n",
    "Experiment with this notebook and think about the following questions.\n",
    "\n",
    "### Questions \n",
    "1. How does `stego2.encode` use the cover text to hide bits?\n",
    "2. How does `stego2.decode` extract the hidden bits from the stego text?\n",
    "3. Is it perfect? Can it be broken?\n",
    "\n",
    "### Experiments\n",
    "\n",
    "1. Change the value of `hidden_bits2` by turning some `0`s to `1`s and some `1`s to `0`s. Click `Cell` > `Run all`. What changes do you notice in `stego2_text`?"
   ]
  }
 ],
 "metadata": {
  "kernelspec": {
   "display_name": "Python 3",
   "language": "python",
   "name": "python3"
  },
  "language_info": {
   "codemirror_mode": {
    "name": "ipython",
    "version": 3
   },
   "file_extension": ".py",
   "mimetype": "text/x-python",
   "name": "python",
   "nbconvert_exporter": "python",
   "pygments_lexer": "ipython3",
   "version": "3.12.3"
  }
 },
 "nbformat": 4,
 "nbformat_minor": 5
}
