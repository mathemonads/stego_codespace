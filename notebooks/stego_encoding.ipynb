{
 "cells": [
  {
   "cell_type": "markdown",
   "id": "00933ebe",
   "metadata": {},
   "source": [
    "# Interactive tutorial\n",
    "\n",
    "## An example of information hiding\n",
    "\n",
    "### 1. Import necessary packages"
   ]
  },
  {
   "cell_type": "code",
   "execution_count": 1,
   "id": "19355ed4",
   "metadata": {},
   "outputs": [],
   "source": [
    "# Ignore this block when reading for the first time\n",
    "import sys, os # import packages to facilitate importing local package\n",
    "sys.path.append(os.path.abspath(\"../src\"))\n",
    "import inspect"
   ]
  },
  {
   "cell_type": "markdown",
   "id": "4e5db2c5",
   "metadata": {},
   "source": [
    "### 2. Import desired package\n",
    "This codespace provides an implementation of a module named `textstego`. \n",
    "This module provides a class named `Stego1`, which we import and instantiate.\n",
    "\n",
    "What is current visible in this repo does not include a complete module implementation.\n",
    "If you are interested in what all goes into a module view the other branches in this repo."
   ]
  },
  {
   "cell_type": "code",
   "execution_count": 2,
   "id": "cb7e9a0e",
   "metadata": {},
   "outputs": [],
   "source": [
    "from textstego.textstego import Stego1\n",
    "stego1 = Stego1()"
   ]
  },
  {
   "cell_type": "markdown",
   "id": "12f222a2",
   "metadata": {},
   "source": [
    "### 3. Attributes\n",
    "It is helpful to know what is in the **namespace** of your code. \n",
    "That is, the functions and variables that are available for you to use. "
   ]
  },
  {
   "cell_type": "code",
   "execution_count": 3,
   "id": "51560483",
   "metadata": {},
   "outputs": [],
   "source": [
    "attributes = dir(stego1)"
   ]
  },
  {
   "cell_type": "markdown",
   "id": "af95ca5b",
   "metadata": {},
   "source": [
    "Show the contents of attributes."
   ]
  },
  {
   "cell_type": "code",
   "execution_count": 4,
   "id": "b9f44b18",
   "metadata": {},
   "outputs": [
    {
     "name": "stdout",
     "output_type": "stream",
     "text": [
      "['__class__', '__delattr__', '__dict__', '__dir__', '__doc__', '__eq__', '__format__', '__ge__', '__getattribute__', '__getstate__', '__gt__', '__hash__', '__init__', '__init_subclass__', '__le__', '__lt__', '__module__', '__ne__', '__new__', '__reduce__', '__reduce_ex__', '__repr__', '__setattr__', '__sizeof__', '__str__', '__subclasshook__', '__weakref__', 'decode', 'encode']\n"
     ]
    }
   ],
   "source": [
    "print(attributes)"
   ]
  },
  {
   "cell_type": "markdown",
   "id": "dd974fc6",
   "metadata": {},
   "source": [
    "Only show attributes which do not start with \"__\"; \n",
    "this is a typical naming convention in Python to help hide functions and variables that developers do no want used/visible to users."
   ]
  },
  {
   "cell_type": "code",
   "execution_count": 5,
   "id": "5d8bc2c7",
   "metadata": {},
   "outputs": [
    {
     "name": "stdout",
     "output_type": "stream",
     "text": [
      "['decode', 'encode']\n"
     ]
    }
   ],
   "source": [
    "attributes = [attr for attr in dir(Stego1) if not attr.startswith(\"__\") and not attr.endswith('__')]\n",
    "print(attributes)"
   ]
  },
  {
   "cell_type": "markdown",
   "id": "6f5c882c",
   "metadata": {},
   "source": [
    "The `stego1` instance provides methods to `decode` and `encode`. \n",
    "The `encode` method requires two string arguments, named `message` and `bits`.\n",
    "We can also see that the signature tells us that `message` and `bits` both expect `str` (strings).\n",
    "It also tells us that if `bits` is not passed, it will default to using `\"\"`, or no hidden string.\n",
    "Finally, the arrow tells us that it returns a string.\n",
    "\n",
    "This method has what we call a \"docstring\" (documentation string) that gives detailed information about the method. \n",
    "Some languages, like Java, have extensive rules about how to write and use docstrings. \n",
    "Python gives some suggestions about how to write documentation, but ultimately it is at the wimp of the developer. "
   ]
  },
  {
   "cell_type": "code",
   "execution_count": 6,
   "id": "09ccee7b",
   "metadata": {},
   "outputs": [
    {
     "name": "stdout",
     "output_type": "stream",
     "text": [
      "(message: str, bits: str = '') -> str\n",
      "Method to encode a message into the cover text using the rule: \n",
      "        if value is a 0, we do not change the white space, if value is a 1, add a space to the whitespace.\n",
      "\n",
      "        Args:\n",
      "            message (str): Value to hide the information into \n",
      "            bits (str, optional): String of bits to hide into the message. Defaults to \"\", or no message.\n",
      "\n",
      "        Returns:\n",
      "            str: Message with encode bits.  \n",
      "        \n"
     ]
    }
   ],
   "source": [
    "print(inspect.signature(stego1.encode))\n",
    "print(stego1.encode.__doc__)"
   ]
  },
  {
   "cell_type": "markdown",
   "id": "7f6677ca",
   "metadata": {},
   "source": [
    "### 4. Encoding\n",
    "We set two variables which we will pass as arguments to `encode`. \n",
    "\n",
    "First, we set the cover text in which our bits will hide. \n",
    "This message should look innocuous. "
   ]
  },
  {
   "cell_type": "code",
   "execution_count": 7,
   "id": "3c424030",
   "metadata": {},
   "outputs": [],
   "source": [
    "cover_text1 = \"Hello, welcome to the Science Mentorship Institute.\""
   ]
  },
  {
   "cell_type": "markdown",
   "id": "96638357",
   "metadata": {},
   "source": [
    "We set a variable that contains the bits we wish to hide.\n",
    "Remember that all information on the computer is, at some level, binary.\n",
    "So, given enough bits, we could encode anything we wanted to with this method."
   ]
  },
  {
   "cell_type": "code",
   "execution_count": 8,
   "id": "ca0e5d99",
   "metadata": {},
   "outputs": [],
   "source": [
    "hidden_bits1 = \"0100110\""
   ]
  },
  {
   "cell_type": "markdown",
   "id": "93e21c36",
   "metadata": {},
   "source": [
    "We pass them as arguments to the `encode` method of `stego1`.\n",
    "The first value will be the first value listed above (`message`), and the second the second value (`bits`). "
   ]
  },
  {
   "cell_type": "code",
   "execution_count": 9,
   "id": "3a1bf57f",
   "metadata": {},
   "outputs": [],
   "source": [
    "stego_text1 = stego1.encode(cover_text1, hidden_bits1)"
   ]
  },
  {
   "cell_type": "markdown",
   "id": "afd73d84",
   "metadata": {},
   "source": [
    "We compare our original cover text against the stego text we just produced. \n",
    "How are they different?"
   ]
  },
  {
   "cell_type": "code",
   "execution_count": 10,
   "id": "f6f9670b",
   "metadata": {},
   "outputs": [
    {
     "name": "stdout",
     "output_type": "stream",
     "text": [
      "Cover: \"Hello, welcome to the Science Mentorship Institute.\"\n",
      "Stego: \"Hello, welcome  to the Science  Mentorship  Institute.\"\n",
      " Bits: \"0100110\"\n"
     ]
    }
   ],
   "source": [
    "print(f'Cover: \"{cover_text1}\"')\n",
    "print(f'Stego: \"{stego_text1}\"')\n",
    "print(f' Bits: \"{hidden_bits1}\"')"
   ]
  },
  {
   "cell_type": "markdown",
   "id": "fce4d2ae",
   "metadata": {},
   "source": [
    "### 5. Decoding\n",
    "We extract the hidden bits from our stego text."
   ]
  },
  {
   "cell_type": "code",
   "execution_count": 11,
   "id": "bf065fda",
   "metadata": {},
   "outputs": [],
   "source": [
    "decoded_bits1 = stego1.decode(stego_text1)"
   ]
  },
  {
   "cell_type": "markdown",
   "id": "89661f4f",
   "metadata": {},
   "source": [
    "We compare the decoded bits against the hidden bits."
   ]
  },
  {
   "cell_type": "code",
   "execution_count": 12,
   "id": "719976f1",
   "metadata": {},
   "outputs": [
    {
     "name": "stdout",
     "output_type": "stream",
     "text": [
      "Decoded: 0100110\n",
      " Hidden: 0100110\n"
     ]
    }
   ],
   "source": [
    "print(f\"Decoded: {decoded_bits1}\")\n",
    "print(f\" Hidden: {hidden_bits1}\")"
   ]
  },
  {
   "cell_type": "markdown",
   "id": "30562574",
   "metadata": {},
   "source": [
    "##  Next Steps\n",
    "\n",
    "Experiment with this notebook and answer the following questions.\n",
    "\n",
    "### Questions\n",
    "1. How does `stego1.encode` use the cover text to hide bits?\n",
    "2. How does `stego1.decode` extract the hidden bits from the stego text?\n",
    "\n",
    "3. Are there any other ways are there to hide bits in text?"
   ]
  }
 ],
 "metadata": {
  "kernelspec": {
   "display_name": "Python 3",
   "language": "python",
   "name": "python3"
  },
  "language_info": {
   "codemirror_mode": {
    "name": "ipython",
    "version": 3
   },
   "file_extension": ".py",
   "mimetype": "text/x-python",
   "name": "python",
   "nbconvert_exporter": "python",
   "pygments_lexer": "ipython3",
   "version": "3.12.3"
  }
 },
 "nbformat": 4,
 "nbformat_minor": 5
}
